{
 "cells": [
  {
   "cell_type": "markdown",
   "metadata": {},
   "source": [
    "원문: https://medium.com/@jasonkgoodman/advice-on-building-data-portfolio-projects-c5f96d8a0627"
   ]
  },
  {
   "cell_type": "markdown",
   "metadata": {},
   "source": [
    "데이터분석을 위한 파이선,판다스,머신러닝등을 학습하고 있으며 코드를 깃허브에 올리고 있지만, 이력서를 제출할 때 어떻게 포트폴리오로 간결하게 정리할 수 있을까? 고민하다가 찾아보게 됨 \n",
    "\n",
    "구글 번역기사용하고 개인적으로 해석해서 틀린 부분이 있을 수 있음\n",
    "\n",
    "-----------------------------------------------------------------"
   ]
  },
  {
   "cell_type": "markdown",
   "metadata": {},
   "source": [
    "### 실제 데이터를 써라\n",
    "\n",
    "캐글이나 다른 정제된 데이터보다 실제 데이터 (real data) 를 써라.\n",
    "data cleaning, preprocessing, transformation 은 어떤 데이터관련 직무에서 든 실제 부분이다. 더불어 누구나 가지고있는 데이터를 쓴다면 주목받기 어렵다."
   ]
  },
  {
   "cell_type": "markdown",
   "metadata": {},
   "source": [
    "### 너만의 데이터를 스크랩해라\n",
    "\n",
    "웹스크래핑은 놀랍도록 쉽다. 그리고 흥미로운 데이터를 얻기 좋다.\n",
    "R 패키지 XML의 readHTMLTable 함수에서 많은 마일리지를 얻었습니다.\n",
    "HTML table로 위키피디아나 스포츠 통계 페이지, 무엇이든 단순하게 가리킬수 있습니다. (piont ? 해당 페이지를 긁어올수있다 이런 뜻으로 생각됨)\n",
    "비슷하게 파이썬에서 Beautifulsoup 또는 scrapy 라이브러리도 사용이 쉽다.\n",
    "당신이 웹상에서 볼수있다면 가져올 수 있다."
   ]
  },
  {
   "cell_type": "markdown",
   "metadata": {},
   "source": [
    "### 데이터를 요구해라\n",
    "\n",
    "학생 인 경우 사람들은 때때로 다른 때에 얻기가 더 어려운 데이터를 제공 할 것입니다\n",
    "나는 다트머스에있을 때 여러 번 외부 소스에서 데이터를 요청했으며, 일반적으로 요청하지 않으면 얻을 수 없을 것으로 예상되는 것보다 더 많이 얻었습니다.\n",
    "\n",
    "(학생일때는 현업 데이터를 보기가 어려운데, 요청하면 생각보다 많은 데이터를 제공받을 수 있다라고 해석됨)"
   ]
  },
  {
   "cell_type": "markdown",
   "metadata": {},
   "source": [
    "### 공개적으로 접근가능한 APIs\n",
    "\n",
    "데이터를 얻는 다른 좋은 방법은 API를 쓰는것이다.\n",
    "이방법은 한번 해보기 전까지는 어렵지만 한번 해보면 쉽다.\n",
    "튜토리얼 따라서 copy and paste해봐라"
   ]
  },
  {
   "cell_type": "markdown",
   "metadata": {},
   "source": [
    "### 다른것보다 흥미로운 데이터를 골라라\n",
    "\n",
    "최고의 포트폴리오 프로젝트는 멋진 모델링이 아니라 흥미로운 데이터로 작업한 것입니다.\n",
    "많은 사람들이 금융데이터나 트위터 데이터를 사용합니다. 이것은 작동하지만 본질적으로 흥미롭지 않습니다. "
   ]
  },
  {
   "cell_type": "markdown",
   "metadata": {},
   "source": [
    "### 당신이 인상적일 것이라고 바라는 것이 아닌, 당신이 호기심을 가진 것을 선택하라\n",
    "\n",
    "당신의 데이터를 흥미롭게하는 확실한 방법은 당신이 눈에띄게 흥분하며 얘기하는 데이터를 고르는 것입니다.\n",
    "당신에게 흥미로운것이라면, 이건 더욱 재미있고 거기에서 더욱 흥미로운 시각을 가질 수 있을 것입니다. \n"
   ]
  },
  {
   "cell_type": "markdown",
   "metadata": {},
   "source": [
    "### 찾은 내용에 관계없이 흥미로운 분석을 선택하라\n",
    "\n",
    "흥미로운 데이터를 가지고 있는 것과 관련하여, 답이 무엇이든 재미있을 만한 것을 골라라.\n",
    "나는 대학에서 사기가 이웃 비영리단체에 미치는 영향에 대해 찾았다. (??)\n",
    "만약 영향을 줬다면 흥미로웠을것이지만, 그렇지 않았다."
   ]
  },
  {
   "cell_type": "markdown",
   "metadata": {},
   "source": [
    "### 비주얼을 완성해라\n",
    "\n",
    "비주얼은 포트폴리오 프로젝에서 중요하다. 비주얼을 아름답게하는데에 쓰는 시간은 가치있다.\n",
    "라인차트나 바차트사용하는것에 두려워하지 마라. 이것들은 이해하기 쉽다.\n",
    "사람들이 당신의 포트폴리오에 감명받기 이전에 관심부터 가져야한다."
   ]
  },
  {
   "cell_type": "markdown",
   "metadata": {},
   "source": [
    "### 텍스트는 짧게 해라\n",
    "\n",
    "텍스트는 짧게 해라, 만약 디테일을 알려주고 싶으면 부록을 써라\n",
    "사람들은 집중력이 짧다."
   ]
  },
  {
   "cell_type": "markdown",
   "metadata": {},
   "source": [
    "### Github에 코드를 올려라\n",
    "\n",
    "코드를 github에 올리고 잘 정리해라. \n",
    "데이터 다운로드에서 시각화 및 텍스트에 이르기까지 전체 연습이 재현 가능하도록 시도하십시오."
   ]
  },
  {
   "cell_type": "markdown",
   "metadata": {},
   "source": [
    "### 가능하면 너의 분석을 productionize 해라 \n",
    "\n",
    "*productionize : 생산화하다\n",
    "\n",
    "어떤 모델이나 데이터 프로덕을 생산화하면 많은 가점을 받을 수 있다.\n",
    "사람들은 야구 분석이 멋지다고 생각했지만, 그들은 실시간으로 예측을 하는 우리의 트위터봇에 정말 감명받았다. 트위터 봇은 쓰는데 오래걸리지 않고 쉽고, 인상적이다.\n",
    "\n",
    "(분석한게 있으면 제품화 해봐라 라는 뜻으로 보임, 간단한 자동화 해볼 것)"
   ]
  },
  {
   "cell_type": "markdown",
   "metadata": {},
   "source": [
    "### 인터랙티브한 데이터를 만들어라\n",
    "\n",
    "위에 관점들로 보면 사람들에게 데이터를 보여주는것은 멋지다. 하지만 그들로하여금 어떤 방법으로든 데이터와 상호작용하게 한다면 큰 가점이 있을 것이다.\n",
    "너의 분석을 퀴즈, 툴, 커스터마이징 랭킹등으로 인터랙티브하게 시각화할 수 있다면, 사람들은 좋아할 것이다.\n",
    "R - Shiny, Python- Flask는 큰 도움이 될것이다.\n",
    "그리고 사용하기 쉽다."
   ]
  },
  {
   "cell_type": "markdown",
   "metadata": {},
   "source": [
    "### 피드백을 찾아라\n",
    "\n",
    "공개적으로 게시할 때, 프로젝트는 끝나지 않는다.\n",
    "데이터 people 이든 아니든 친구에게 적극적으로 피드백을 요청해라\n",
    "구체적으로 어느 부분이 흥미로웠고, 어디서 길을 잃었는지 물어라\n",
    "프로젝트가 공개된 후에도 추가하거나 편집하는것을 두려워 말아라"
   ]
  },
  {
   "cell_type": "markdown",
   "metadata": {},
   "source": [
    "### 특정 데이터 출처에 대한 참고 사항\n",
    "\n",
    "- 좋은 데이터 출처 : reddit, wikipedia, tumblr, news sites, sports, nces, nonprofits, city governments, university sites\n",
    "\n",
    "- 스크래핑 차단 정책등으로 데이터 얻기 어려운 곳: linkedin, facebook, yelp, foursquare, craigslist"
   ]
  },
  {
   "cell_type": "code",
   "execution_count": null,
   "metadata": {},
   "outputs": [],
   "source": []
  }
 ],
 "metadata": {
  "kernelspec": {
   "display_name": "Python 3",
   "language": "python",
   "name": "python3"
  },
  "language_info": {
   "codemirror_mode": {
    "name": "ipython",
    "version": 3
   },
   "file_extension": ".py",
   "mimetype": "text/x-python",
   "name": "python",
   "nbconvert_exporter": "python",
   "pygments_lexer": "ipython3",
   "version": "3.8.0"
  }
 },
 "nbformat": 4,
 "nbformat_minor": 2
}
