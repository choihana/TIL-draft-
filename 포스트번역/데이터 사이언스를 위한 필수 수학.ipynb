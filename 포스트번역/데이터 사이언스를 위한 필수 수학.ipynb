{
 "cells": [
  {
   "cell_type": "markdown",
   "metadata": {},
   "source": [
    "참고 링크\n",
    "https://medium.com/s/story/essential-math-for-data-science-why-and-how-e88271367fbd\n",
    "\n",
    "## 데이터사이언스를 위한 필수 수학\n",
    "\n",
    "최근 머신러닝을 포함한 데이터사이언스의 대부분의 기술은 깊은 수학적 토대를 필요로 합니다.\n",
    "\n",
    "높은 데이터사이언티스트가 되기 위해서 다음의 지식이 필요하다는 것은 말할 필요도 없습니다.\n",
    "\n",
    "- 프로그래밍 능력 (programming ability)\n",
    "- 비지니스 통찰력 (besiness acumen)\n",
    "- 당신의 독특하고 호기심많은 분석 사고방식 (your unique analytical and inquisitive mindset)\n",
    "\n",
    "알고리즘 뒤의 수학을 견고히 이해하면 나만의 우위를 점할 수 있습니다.\n"
   ]
  },
  {
   "cell_type": "markdown",
   "metadata": {},
   "source": [
    "이 필수 수학의 지식은 하드웨어 공학, 소매업, 화학 공정 산업, 의학 및 의료, 사업 관리 등과 같은 다른 직업에서 데이터 과학에 도달하는 새로운 사람들에게 특히 중요합니다. 그러한 분야는 스프레드시트, 수치 계산 및 예측에 대한 경험이 필요할 수 있지만, 데이터 과학에서 요구되는 수학 기술은 상당히 다를 수 있습니다."
   ]
  },
  {
   "cell_type": "markdown",
   "metadata": {},
   "source": [
    "웹 개발자 또는 비즈니스 분석가를 생각해보면 그들은 매일 많은 데이터와 정보를 다룰 수 있지만, 그 데이터에 대한 엄격한 모델링을 강조하지 않을 수 있습니다. 종종, 심층적인 과학 탐구가 아닌 즉각적인 필요를 위해 데이터를 사용하고 앞으로 나아가는 것에 중점을 둡니다. 반면에 데이터 과학은 항상 데이터가 아니라 과학에 관한 것이어야 합니다. "
   ]
  },
  {
   "cell_type": "markdown",
   "metadata": {},
   "source": [
    "### 과학적 과정\n",
    "\n",
    "- 근본적 역학을 탐구하여 프로세스를 모델링\n",
    "- 가설 구축\n",
    "- 엄격하게 데이터 소스의 질을 측정\n",
    "- 데이터와 예측 값 주위에 분명하지 않은것을 수량화 \n",
    "- 정보 흐름에 숨겨진 패턴 식별\n",
    "- 모델의 한계 이해\n",
    "- 수학적 증명과 그 뒤에 숨은 추상적 로직 이해\n",
    "\n"
   ]
  },
  {
   "cell_type": "markdown",
   "metadata": {},
   "source": [
    "### 1.함수(Functions) , 변수 (Variables), 방정식 (Equations), 그래프 (Graphs)\n",
    "\n",
    "수학의 이 영역은 선의 방정식부터 이항정리, 그리고 그 사이에 있는 모든 것에 이르기까지 기본을 다룹니다.\n",
    "\n",
    "- 로그, 지수, 다항식 함수, 유리수\n",
    "- 기본 기하학적 구조 및 정리, 삼각함수\n",
    "- 실수, 복소수 , 기본 속성\n",
    "- 시리즈, 합계, 부등호\n",
    "- 그래프 작성 및 플롯, 데카르트 및 극좌표, 이차곡선\n",
    "\n",
    "### 사용 예시\n",
    "\n",
    "만약 당신이 백만 개의 항목에서 검색이 어떻게 더 빨리 실행되는지 이해하기를 원한다면, 당신은 \"이진 검색\"이라는 개념을 알게 될 것입니다. 그것의 역학을 이해하려면 로그와 반복 방정식을 이해해야 합니다. 또는 시계열을 분석하려면 \"주기적 함수\"와 \"지수적 감쇠\"와 같은 개념을 접하게 될 수도 있습니다.\n",
    "\n",
    "### 배울 수 있는 곳 \n",
    "\n",
    "- Coursera: https://www.coursera.org/learn/datasciencemathskills \n",
    "- eDX: https://www.edx.org/course/introduction-to-algebra"
   ]
  },
  {
   "cell_type": "markdown",
   "metadata": {},
   "source": [
    "### 2.통계학 (Statistics)\n",
    "\n",
    "통계와 확률의 본질적 개념에 대한 확실한 파악의 중요성은 아무리 강조해도 지나치지 않다. 이 분야의 많은 실무자들은 실제로 클래식(비뉴럴 네트워크) 머신러닝을 통계학 학습에 불과하다고 생각한다. 주제는 방대하며, 가장 본질적인 개념을 다루기 위해서는 집중적인 계획이 중요하다.\n",
    "\n",
    "- 데이터 요약 및 기술 통계량, 중심 경향, 분산, 공분산, 상관 관계\n",
    "- 기본 확률: 기본 아이디어, 기대, 확률 미적분, 베이즈의 정리, 조건부 확률\n",
    "- 확률 분포 함수: 균일, 정규, 이항, 카이-제곱, 학생 t-분포, 중심 한계 정리\n",
    "- 샘플링, 측정, 오류, 난수 생성\n",
    "- 가설 검정, A/B 검정, 신뢰 구간, p-값\n",
    "- 분산 분석, t-검정\n",
    "- 선형 회귀 분석, 정규화\n",
    "\n",
    "### 배울 수 있는 곳\n",
    "\n",
    "- Coursera: https://www.coursera.org/specializations/statistics\n",
    "- edx: https://courses.edx.org/courses/course-v1:UCSanDiegoX+DSE210x+3T2017/course/\n",
    "\n"
   ]
  },
  {
   "cell_type": "markdown",
   "metadata": {},
   "source": [
    "### 3.선형대수 (Linear Algebra)\n",
    "\n",
    "이는 기계학습 알고리즘이 데이터 스트림에서 어떻게 작동하여 통찰력을 창출하는지 이해하기 위한 수학의 필수 분야다. 페이스북 친구 제안부터 스포티파이의 노래 추천, 딥 트랜스퍼 학습을 이용한 살바도르 달리 스타일의 초상화에 셀카 전송까지 모든 것은 행렬과 매트릭스 대수학을 포함한다. 여기 배워야 할 필수적인 주제들이 있다."
   ]
  },
  {
   "cell_type": "markdown",
   "metadata": {},
   "source": [
    "- 행렬 및 벡터의 기본 특성: 스칼라 곱하기, 선형 변환, 전치, 결합, 순위, 결정 요인\n",
    "- 내부 및 외부 제품, 매트릭스 곱셈 규칙 및 다양한 알고리즘, 매트릭스 역행\n",
    "- 특수 행렬: 사각 행렬, ID 행렬, 삼각 행렬, 희박하고 밀도가 높은 행렬에 대한 아이디어, 단위 벡터, 대칭 행렬, 은둔자, 스큐-헤르미티아 및 단일 행렬\n",
    "- 행렬 인자화 개념/LU 분해, 가우스/가우스-요르단 제거, Ax=b 등식의 선형 시스템 해결\n",
    "- 벡터 공간, 기본, 스팬, 직교, 직교, 선형 최소 제곱\n",
    "- 고유값, 고유 벡터, 대각선화, 단수 값 분해"
   ]
  },
  {
   "cell_type": "markdown",
   "metadata": {},
   "source": [
    "### 4. 미적분학 (Calculus)"
   ]
  },
  {
   "cell_type": "markdown",
   "metadata": {},
   "source": [
    "### 5. 이산수학 (Discrete Math)"
   ]
  },
  {
   "cell_type": "code",
   "execution_count": null,
   "metadata": {},
   "outputs": [],
   "source": []
  }
 ],
 "metadata": {
  "kernelspec": {
   "display_name": "Python 3",
   "language": "python",
   "name": "python3"
  },
  "language_info": {
   "codemirror_mode": {
    "name": "ipython",
    "version": 3
   },
   "file_extension": ".py",
   "mimetype": "text/x-python",
   "name": "python",
   "nbconvert_exporter": "python",
   "pygments_lexer": "ipython3",
   "version": "3.7.4"
  }
 },
 "nbformat": 4,
 "nbformat_minor": 2
}
