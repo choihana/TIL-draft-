{
 "cells": [
  {
   "cell_type": "markdown",
   "metadata": {},
   "source": [
    "* 문제 출처: 해커랭크\n",
    "https://www.hackerrank.com/challenges/challenges/problem\n",
    "\n",
    "## Challenges"
   ]
  },
  {
   "cell_type": "code",
   "execution_count": 11,
   "metadata": {},
   "outputs": [],
   "source": [
    "from IPython.display import Image\n",
    "import pandas as pd"
   ]
  },
  {
   "cell_type": "markdown",
   "metadata": {},
   "source": [
    "### 1) Table 구조"
   ]
  },
  {
   "attachments": {},
   "cell_type": "markdown",
   "metadata": {},
   "source": [
    "Hackers Table"
   ]
  },
  {
   "cell_type": "code",
   "execution_count": 9,
   "metadata": {},
   "outputs": [
    {
     "data": {
      "image/png": "[encoded data removed]",
      "text/plain": [
       "<IPython.core.display.Image object>"
      ]
     },
     "execution_count": 9,
     "metadata": {},
     "output_type": "execute_result"
    }
   ],
   "source": [
    "Image('http://s3.amazonaws.com/hr-challenge-images/19506/1458521004-cb4c077dd3-ScreenShot2016-03-21at6.06.54AM.png')"
   ]
  },
  {
   "cell_type": "markdown",
   "metadata": {},
   "source": [
    "Challenges Table"
   ]
  },
  {
   "cell_type": "code",
   "execution_count": 10,
   "metadata": {},
   "outputs": [
    {
     "data": {
      "image/png": "[encoded data removed]",
      "text/plain": [
       "<IPython.core.display.Image object>"
      ]
     },
     "execution_count": 10,
     "metadata": {},
     "output_type": "execute_result"
    }
   ],
   "source": [
    "Image('http://s3.amazonaws.com/hr-challenge-images/19506/1458521079-549341d9ec-ScreenShot2016-03-21at6.07.03AM.png')"
   ]
  },
  {
   "cell_type": "markdown",
   "metadata": {},
   "source": [
    "### 2) 문제 설명\n",
    "- Julia가 Hackers 테이블에 있는 학생들에게 Challenge를 만들어 달라고 부탁하여 위의 테이블 2개가 구성됨\n",
    "- hacker_id 별로 만든 challenge의 합계를 구하고 싶음 \n",
    "\n",
    "[조건]\n",
    "1. hacker_id, name, total number of challenges 보여줄 것\n",
    "2. 집계한 challenge가 큰 순서대로 정렬할 것 (동일할 경우 hacker_id 오름차순)\n",
    "3. 만약 total number of challenges 가 중복일 경우 결과에서 제외해줄 것 \n",
    "4. 만약 total number of challenges 가 max값일 경우 중복이어도 결과에 포함할 것 \n"
   ]
  },
  {
   "cell_type": "markdown",
   "metadata": {},
   "source": [
    "문제가 복잡해보이는데, sample 예제 2개를 손으로 하나하나 그려보면 이해에 도움이 된다."
   ]
  },
  {
   "cell_type": "markdown",
   "metadata": {},
   "source": [
    "### 3) Sample 로 결과 테이블 뽑아보기\n",
    "\n",
    "hackers와 challenges 테이블이 아래와 같이 각각 주어졌을 때, 결과값이 어떻게 \n",
    "나올지 그려보면서 문제를 이해해 보자"
   ]
  },
  {
   "cell_type": "code",
   "execution_count": 21,
   "metadata": {},
   "outputs": [],
   "source": [
    "hackers_dict={\n",
    "    'hacker_id':[5077,21283,62743,88255,96196],\n",
    "    'name':['Rose','Angela','Frank','Patrick','Lisa']\n",
    "}"
   ]
  },
  {
   "cell_type": "code",
   "execution_count": 38,
   "metadata": {},
   "outputs": [],
   "source": [
    "challenges_dict={\n",
    "    'challenge_id':[61654,58302,40587,29477,1220,69514,46561,58077,18483\n",
    "                   ,76766,52382,74467,33625,26053,42665,12859,70094,34599,\n",
    "                   54680,61881,61882],\n",
    "    'hacker_id':[5077,21283,88255,5077,21283,21283,62743,62743,88255,\n",
    "                21283,5077,21283,96196,88255,62743,62743,21283,88255\n",
    "                 ,88255,5077,88255]\n",
    "}"
   ]
  },
  {
   "cell_type": "markdown",
   "metadata": {},
   "source": [
    "Hacker Table"
   ]
  },
  {
   "cell_type": "code",
   "execution_count": 39,
   "metadata": {},
   "outputs": [
    {
     "data": {
      "text/html": [
       "<div>\n",
       "<style scoped>\n",
       "    .dataframe tbody tr th:only-of-type {\n",
       "        vertical-align: middle;\n",
       "    }\n",
       "\n",
       "    .dataframe tbody tr th {\n",
       "        vertical-align: top;\n",
       "    }\n",
       "\n",
       "    .dataframe thead th {\n",
       "        text-align: right;\n",
       "    }\n",
       "</style>\n",
       "<table border=\"1\" class=\"dataframe\">\n",
       "  <thead>\n",
       "    <tr style=\"text-align: right;\">\n",
       "      <th></th>\n",
       "      <th>hacker_id</th>\n",
       "      <th>name</th>\n",
       "    </tr>\n",
       "  </thead>\n",
       "  <tbody>\n",
       "    <tr>\n",
       "      <th>0</th>\n",
       "      <td>5077</td>\n",
       "      <td>Rose</td>\n",
       "    </tr>\n",
       "    <tr>\n",
       "      <th>1</th>\n",
       "      <td>21283</td>\n",
       "      <td>Angela</td>\n",
       "    </tr>\n",
       "    <tr>\n",
       "      <th>2</th>\n",
       "      <td>62743</td>\n",
       "      <td>Frank</td>\n",
       "    </tr>\n",
       "    <tr>\n",
       "      <th>3</th>\n",
       "      <td>88255</td>\n",
       "      <td>Patrick</td>\n",
       "    </tr>\n",
       "    <tr>\n",
       "      <th>4</th>\n",
       "      <td>96196</td>\n",
       "      <td>Lisa</td>\n",
       "    </tr>\n",
       "  </tbody>\n",
       "</table>\n",
       "</div>"
      ],
      "text/plain": [
       "   hacker_id     name\n",
       "0       5077     Rose\n",
       "1      21283   Angela\n",
       "2      62743    Frank\n",
       "3      88255  Patrick\n",
       "4      96196     Lisa"
      ]
     },
     "execution_count": 39,
     "metadata": {},
     "output_type": "execute_result"
    }
   ],
   "source": [
    "hackers=pd.DataFrame(hackers_dict)\n",
    "hackers"
   ]
  },
  {
   "cell_type": "markdown",
   "metadata": {},
   "source": [
    "Challenge Table"
   ]
  },
  {
   "cell_type": "code",
   "execution_count": 40,
   "metadata": {
    "scrolled": true
   },
   "outputs": [
    {
     "data": {
      "text/html": [
       "<div>\n",
       "<style scoped>\n",
       "    .dataframe tbody tr th:only-of-type {\n",
       "        vertical-align: middle;\n",
       "    }\n",
       "\n",
       "    .dataframe tbody tr th {\n",
       "        vertical-align: top;\n",
       "    }\n",
       "\n",
       "    .dataframe thead th {\n",
       "        text-align: right;\n",
       "    }\n",
       "</style>\n",
       "<table border=\"1\" class=\"dataframe\">\n",
       "  <thead>\n",
       "    <tr style=\"text-align: right;\">\n",
       "      <th></th>\n",
       "      <th>challenge_id</th>\n",
       "      <th>hacker_id</th>\n",
       "    </tr>\n",
       "  </thead>\n",
       "  <tbody>\n",
       "    <tr>\n",
       "      <th>0</th>\n",
       "      <td>61654</td>\n",
       "      <td>5077</td>\n",
       "    </tr>\n",
       "    <tr>\n",
       "      <th>1</th>\n",
       "      <td>58302</td>\n",
       "      <td>21283</td>\n",
       "    </tr>\n",
       "    <tr>\n",
       "      <th>2</th>\n",
       "      <td>40587</td>\n",
       "      <td>88255</td>\n",
       "    </tr>\n",
       "    <tr>\n",
       "      <th>3</th>\n",
       "      <td>29477</td>\n",
       "      <td>5077</td>\n",
       "    </tr>\n",
       "    <tr>\n",
       "      <th>4</th>\n",
       "      <td>1220</td>\n",
       "      <td>21283</td>\n",
       "    </tr>\n",
       "    <tr>\n",
       "      <th>5</th>\n",
       "      <td>69514</td>\n",
       "      <td>21283</td>\n",
       "    </tr>\n",
       "    <tr>\n",
       "      <th>6</th>\n",
       "      <td>46561</td>\n",
       "      <td>62743</td>\n",
       "    </tr>\n",
       "    <tr>\n",
       "      <th>7</th>\n",
       "      <td>58077</td>\n",
       "      <td>62743</td>\n",
       "    </tr>\n",
       "    <tr>\n",
       "      <th>8</th>\n",
       "      <td>18483</td>\n",
       "      <td>88255</td>\n",
       "    </tr>\n",
       "    <tr>\n",
       "      <th>9</th>\n",
       "      <td>76766</td>\n",
       "      <td>21283</td>\n",
       "    </tr>\n",
       "    <tr>\n",
       "      <th>10</th>\n",
       "      <td>52382</td>\n",
       "      <td>5077</td>\n",
       "    </tr>\n",
       "    <tr>\n",
       "      <th>11</th>\n",
       "      <td>74467</td>\n",
       "      <td>21283</td>\n",
       "    </tr>\n",
       "    <tr>\n",
       "      <th>12</th>\n",
       "      <td>33625</td>\n",
       "      <td>96196</td>\n",
       "    </tr>\n",
       "    <tr>\n",
       "      <th>13</th>\n",
       "      <td>26053</td>\n",
       "      <td>88255</td>\n",
       "    </tr>\n",
       "    <tr>\n",
       "      <th>14</th>\n",
       "      <td>42665</td>\n",
       "      <td>62743</td>\n",
       "    </tr>\n",
       "    <tr>\n",
       "      <th>15</th>\n",
       "      <td>12859</td>\n",
       "      <td>62743</td>\n",
       "    </tr>\n",
       "    <tr>\n",
       "      <th>16</th>\n",
       "      <td>70094</td>\n",
       "      <td>21283</td>\n",
       "    </tr>\n",
       "    <tr>\n",
       "      <th>17</th>\n",
       "      <td>34599</td>\n",
       "      <td>88255</td>\n",
       "    </tr>\n",
       "    <tr>\n",
       "      <th>18</th>\n",
       "      <td>54680</td>\n",
       "      <td>88255</td>\n",
       "    </tr>\n",
       "    <tr>\n",
       "      <th>19</th>\n",
       "      <td>61881</td>\n",
       "      <td>5077</td>\n",
       "    </tr>\n",
       "    <tr>\n",
       "      <th>20</th>\n",
       "      <td>61882</td>\n",
       "      <td>88255</td>\n",
       "    </tr>\n",
       "  </tbody>\n",
       "</table>\n",
       "</div>"
      ],
      "text/plain": [
       "    challenge_id  hacker_id\n",
       "0          61654       5077\n",
       "1          58302      21283\n",
       "2          40587      88255\n",
       "3          29477       5077\n",
       "4           1220      21283\n",
       "5          69514      21283\n",
       "6          46561      62743\n",
       "7          58077      62743\n",
       "8          18483      88255\n",
       "9          76766      21283\n",
       "10         52382       5077\n",
       "11         74467      21283\n",
       "12         33625      96196\n",
       "13         26053      88255\n",
       "14         42665      62743\n",
       "15         12859      62743\n",
       "16         70094      21283\n",
       "17         34599      88255\n",
       "18         54680      88255\n",
       "19         61881       5077\n",
       "20         61882      88255"
      ]
     },
     "execution_count": 40,
     "metadata": {},
     "output_type": "execute_result"
    }
   ],
   "source": [
    "challenges=pd.DataFrame(challenges_dict)\n",
    "challenges"
   ]
  },
  {
   "cell_type": "markdown",
   "metadata": {},
   "source": [
    "- hackers 테이블과 challenges 테이블을 조인하여, 각각의 학생이 몇개의 challenge를 만들었는지 집계한다."
   ]
  },
  {
   "cell_type": "code",
   "execution_count": 41,
   "metadata": {},
   "outputs": [
    {
     "data": {
      "text/plain": [
       "hacker_id  name   \n",
       "5077       Rose       4\n",
       "21283      Angela     6\n",
       "62743      Frank      4\n",
       "88255      Patrick    6\n",
       "96196      Lisa       1\n",
       "Name: challenge_id, dtype: int64"
      ]
     },
     "execution_count": 41,
     "metadata": {},
     "output_type": "execute_result"
    }
   ],
   "source": [
    "joined=hackers.merge(challenges,how='left',on='hacker_id').groupby(['hacker_id','name'])['challenge_id'].count()\n",
    "joined"
   ]
  },
  {
   "cell_type": "markdown",
   "metadata": {},
   "source": [
    "### [결과 추출]\n",
    "1. 집계 결과 큰 순서대로 정렬\n",
    "2. 중복된 결과 제거 (max 아닐 경우에만)"
   ]
  },
  {
   "cell_type": "code",
   "execution_count": 42,
   "metadata": {},
   "outputs": [
    {
     "data": {
      "text/html": [
       "<div>\n",
       "<style scoped>\n",
       "    .dataframe tbody tr th:only-of-type {\n",
       "        vertical-align: middle;\n",
       "    }\n",
       "\n",
       "    .dataframe tbody tr th {\n",
       "        vertical-align: top;\n",
       "    }\n",
       "\n",
       "    .dataframe thead th {\n",
       "        text-align: right;\n",
       "    }\n",
       "</style>\n",
       "<table border=\"1\" class=\"dataframe\">\n",
       "  <thead>\n",
       "    <tr style=\"text-align: right;\">\n",
       "      <th></th>\n",
       "      <th>hacker_id</th>\n",
       "      <th>name</th>\n",
       "      <th>count</th>\n",
       "    </tr>\n",
       "  </thead>\n",
       "  <tbody>\n",
       "    <tr>\n",
       "      <th>0</th>\n",
       "      <td>21283</td>\n",
       "      <td>Angela</td>\n",
       "      <td>6</td>\n",
       "    </tr>\n",
       "    <tr>\n",
       "      <th>1</th>\n",
       "      <td>88255</td>\n",
       "      <td>Patrick</td>\n",
       "      <td>6</td>\n",
       "    </tr>\n",
       "    <tr>\n",
       "      <th>2</th>\n",
       "      <td>96196</td>\n",
       "      <td>Lisa</td>\n",
       "      <td>1</td>\n",
       "    </tr>\n",
       "  </tbody>\n",
       "</table>\n",
       "</div>"
      ],
      "text/plain": [
       "   hacker_id     name  count\n",
       "0      21283   Angela      6\n",
       "1      88255  Patrick      6\n",
       "2      96196     Lisa      1"
      ]
     },
     "execution_count": 42,
     "metadata": {},
     "output_type": "execute_result"
    }
   ],
   "source": [
    "result_dict={\n",
    "   \n",
    "    'hacker_id':[21283,88255,96196],\n",
    "    'name':['Angela','Patrick','Lisa'],\n",
    "    'count' :[6,6,1]\n",
    "}\n",
    "results=pd.DataFrame(result_dict)\n",
    "results"
   ]
  },
  {
   "cell_type": "markdown",
   "metadata": {},
   "source": [
    "- 집계 결과가 4로 동일한 Rose,Frank 의 결과는 제외했으며 집계수가 큰 대로 정렬되었다.\n",
    "- Angela 와 Patrict도 집계수가 6으로 동일하지만, Max 값이므로 중복이어도 살려둔다"
   ]
  },
  {
   "cell_type": "markdown",
   "metadata": {},
   "source": [
    "### 4) SQL 로 풀기\n",
    "\n",
    "1단계: Base 코드 만들기\n",
    "\n",
    "문제가 복잡하기 때문에 처음부터 다 짜려고 하면 머리아프다.\n",
    "조건 포함되기 전 베이스 코드를 먼저 짜보자.\n",
    "\n",
    "- 각 학생이 생성한 challenge 수 집계 (Join + Group by + COUNT())\n",
    "- 정렬 조건 넣어주기 (Order by)"
   ]
  },
  {
   "cell_type": "markdown",
   "metadata": {},
   "source": [
    "```sql\n",
    "SELECT H.hacker_id, H.name, count(C.challenge_id) as c_num\n",
    "FROM Hackers H\n",
    "    LEFT JOIN Challenges C\n",
    "    ON H.hacker_id = C.hacker_id\n",
    "GROUP BY 1,2\n",
    "ORDER BY c_num DESC, hacker_id ASC\n",
    "```"
   ]
  },
  {
   "cell_type": "markdown",
   "metadata": {},
   "source": [
    "2단계: HAVING 절에 Sub 쿼리 사용해서 조건문 추가하기\n",
    "\n",
    "- 조건1.c_num 이 MAX 값일 경우엔 중복이어도 제외하지 않음 \n",
    "\n",
    "-> c_num이 MAX 인 ROW 추가\n",
    "\n",
    "- 조건2.c_num 이 MAX 값이 아닐경우 중복값을 가지는 Row 제외\n",
    "\n",
    "-> count(c_num) = 1 인 ROW 추가"
   ]
  },
  {
   "cell_type": "markdown",
   "metadata": {},
   "source": [
    "```sql\n",
    "SELECT H.hacker_id, H.name, count(C.challenge_id) as c_num\n",
    "FROM Hackers H\n",
    "    LEFT JOIN Challenges C\n",
    "    ON H.hacker_id = C.hacker_id\n",
    "GROUP BY 1,2\n",
    "HAVING c_num = (SELECT max(num) -- 조건1\n",
    "                FROM(\n",
    "\t\t\t\t\t SELECT hacker_id\n",
    "\t\t\t\t\t\t\t, count(*) as num\n",
    "\t\t\t\t\t FROM challenges\n",
    "                     GROUP BY hacker_id\n",
    "\t\t\t\t\t) AS sub\n",
    "\t\t\t\t)\n",
    "OR c_num IN (SELECT c_num -- 조건 2\n",
    "\t\t\t FROM(\n",
    "\t\t\t\t  SELECT hacker_id\n",
    "                         ,count(*) as c_num\n",
    "\t\t\t\t  FROM Challenges\n",
    "\t\t\t\t  GROUP BY hacker_id\n",
    "\t\t\t\t  ) as T\n",
    "\t\t\t  GROUP BY 1\n",
    "\t\t\t  HAVING count(*) = 1\n",
    "\t\t\t  )\n",
    "ORDER BY c_num DESC, hacker_id ASC\n",
    "\n",
    "```"
   ]
  },
  {
   "cell_type": "markdown",
   "metadata": {},
   "source": [
    "특히 조건2가 까다로웠는데, c_num을 카운트하기 위해서 hackers 와 challenges 테이블을 조인해줄 필요 없으며, From 절에서 sub쿼리를 통해 아이디 별 c_num 수를 구하고, 바깥에서 Group by 와 having 을 통해 c_num이 1인 것만 뽑아낼 수 있었다."
   ]
  },
  {
   "cell_type": "code",
   "execution_count": null,
   "metadata": {},
   "outputs": [],
   "source": []
  }
 ],
 "metadata": {
  "kernelspec": {
   "display_name": "Python 3",
   "language": "python",
   "name": "python3"
  },
  "language_info": {
   "codemirror_mode": {
    "name": "ipython",
    "version": 3
   },
   "file_extension": ".py",
   "mimetype": "text/x-python",
   "name": "python",
   "nbconvert_exporter": "python",
   "pygments_lexer": "ipython3",
   "version": "3.8.0"
  }
 },
 "nbformat": 4,
 "nbformat_minor": 2
}
